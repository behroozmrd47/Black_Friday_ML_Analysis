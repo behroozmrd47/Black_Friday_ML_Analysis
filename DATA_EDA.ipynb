{
 "cells": [
  {
   "cell_type": "markdown",
   "source": [
    "Titanic Dataset EDA Analysis\n",
    "\n",
    "Let's look at the data at large first"
   ],
   "metadata": {
    "collapsed": false
   }
  },
  {
   "cell_type": "code",
   "execution_count": 1,
   "outputs": [],
   "source": [
    "#invite people for the Kaggle party\n",
    "import pandas as pd\n",
    "import matplotlib.pyplot as plt\n",
    "import seaborn as sns\n",
    "import numpy as np\n",
    "from scipy.stats import norm\n",
    "from sklearn.preprocessing import StandardScaler\n",
    "from scipy import stats\n",
    "import warnings\n",
    "from sklearn.compose import ColumnTransformer\n",
    "from sklearn.impute import SimpleImputer\n",
    "from sklearn.pipeline import Pipeline\n",
    "from sklearn.preprocessing import OneHotEncoder\n",
    "from sklearn.tree import DecisionTreeClassifier\n",
    "from src.utils.utility_functions import SelectColumnsTransformer\n",
    "warnings.filterwarnings('ignore')\n",
    "%matplotlib inline\n",
    "from matplotlib import style\n",
    "style.use('seaborn-darkgrid')"
   ],
   "metadata": {
    "collapsed": false,
    "pycharm": {
     "name": "#%%\n"
    }
   }
  },
  {
   "cell_type": "code",
   "execution_count": 2,
   "outputs": [
    {
     "name": "stdout",
     "output_type": "stream",
     "text": [
      "Dataframe columns are :(891, 12)\n",
      "<class 'pandas.core.frame.DataFrame'>\n",
      "RangeIndex: 891 entries, 0 to 890\n",
      "Data columns (total 12 columns):\n",
      " #   Column       Non-Null Count  Dtype  \n",
      "---  ------       --------------  -----  \n",
      " 0   PassengerId  891 non-null    int64  \n",
      " 1   Survived     891 non-null    int64  \n",
      " 2   Pclass       891 non-null    int64  \n",
      " 3   Name         891 non-null    object \n",
      " 4   Sex          891 non-null    object \n",
      " 5   Age          714 non-null    float64\n",
      " 6   SibSp        891 non-null    int64  \n",
      " 7   Parch        891 non-null    int64  \n",
      " 8   Ticket       891 non-null    object \n",
      " 9   Fare         891 non-null    float64\n",
      " 10  Cabin        204 non-null    object \n",
      " 11  Embarked     889 non-null    object \n",
      "dtypes: float64(2), int64(5), object(5)\n",
      "memory usage: 83.7+ KB\n"
     ]
    }
   ],
   "source": [
    "#Loading the data analysing datasets columns and shape\n",
    "df_train = pd.read_csv('data/train.csv')\n",
    "df_test = pd.read_csv('data/test.csv')\n",
    "df = pd.read_csv('data/train.csv')\n",
    "df_train.head(5)\n",
    "print('Dataframe columns are :' + str(df_train.shape))\n",
    "df_train.info()"
   ],
   "metadata": {
    "collapsed": false,
    "pycharm": {
     "name": "#%%\n"
    }
   }
  },
  {
   "cell_type": "markdown",
   "source": [
    "Training data includes information regarding 891 passengers. The information includes:\n",
    "* PassengerId: Passenger ID\n",
    "* Survived: whether or not the passenger survived the accident\n",
    "* Pclass: Passenger class\n",
    "* Name: Passenger name\n",
    "* Sex: Passenger sex\n",
    "* Age: Passenger age\n",
    "* SibSp: Passenger ???\n",
    "* Parch: Passenger ???\n",
    "* Ticket: Passenger Ticket\n",
    "* Fare: Passenger Ticket Cost\n",
    "* Cabin: Passenger cabin class\n",
    "* Embarked: Passenger port of entry\n",
    "\n",
    "Let's look at the data at large first"
   ],
   "metadata": {
    "collapsed": false
   }
  },
  {
   "cell_type": "code",
   "execution_count": 3,
   "outputs": [],
   "source": [
    "#missing data\n",
    "\n",
    "total = df_train.isnull().sum().sort_values(ascending=False)\n",
    "percent = (df_train.isnull().sum()/df_train.isnull().count()).sort_values(ascending=False)\n",
    "missing_data = pd.concat([total, percent], axis=1, keys=['Total', 'Percent'])\n",
    "missing_data.head()\n",
    "df_train.columns = [col.lower() for col in df_train.columns]\n",
    "df_train.index = df_train['passengerid']"
   ],
   "metadata": {
    "collapsed": false,
    "pycharm": {
     "name": "#%%\n"
    }
   }
  },
  {
   "cell_type": "markdown",
   "source": [
    "Out of the 11 available independent variables, the variables of \"PassengerId\", \"Name\", \"Parch\" &\n",
    "\"Ticket\" are believed to be\n",
    "irrelevant to whether a passenger has survived or not and therefore these columns are dropped for the\n",
    "initial analysis.\n",
    "There are missing values in three fields of \"Cabin\", \"Age\" and \"Embarked\".\n",
    "With about 77 percent of data missing from \"Cabin\" field, this variable will be excluded from modeling efforts.\n",
    "In case of \"Embarked\", there are two cases of missing values and rows with missing values will be dropped."
   ],
   "metadata": {
    "collapsed": false
   }
  },
  {
   "cell_type": "code",
   "execution_count": 4,
   "outputs": [],
   "source": [
    "cols = ['Pclass', 'Sex', 'Age', 'SibSp', 'Fare', 'Embarked', 'survived']\n",
    "selector_preprocessing = Pipeline([('selector', SelectColumnsTransformer(cols))])\n",
    "df_train = selector_preprocessing.fit_transform(X=df_train)\n",
    "df_train = df_train[df_train['embarked'].notna()]"
   ],
   "metadata": {
    "collapsed": false,
    "pycharm": {
     "name": "#%%\n"
    }
   }
  },
  {
   "cell_type": "markdown",
   "source": [
    "Predictor variables are examined and their correlation with survival rate are analysed using Chi-squared\n",
    "test along with the relative frequency bar plots. It can be seen that, variables \"sex\", \"pclass\" and\n",
    "are \"Embarked\" are highly correlated with the survival rate. Female and first class\n",
    "passenger had higher survival rate."
   ],
   "metadata": {
    "collapsed": false
   }
  },
  {
   "cell_type": "code",
   "execution_count": 5,
   "outputs": [
    {
     "data": {
      "text/plain": "<Figure size 432x288 with 1 Axes>",
      "image/png": "[encoded data removed]"
     },
     "metadata": {},
     "output_type": "display_data"
    },
    {
     "name": "stdout",
     "output_type": "stream",
     "text": [
      "p-value=0.000000, significance=0.05\n",
      "\n",
      "At 0.05 level of significance, we reject the null hypotheses and accept H1.\n",
      "    They are not independent.\n"
     ]
    }
   ],
   "source": [
    "from scipy.stats import chi2_contingency\n",
    "\n",
    "def analysis_cat_dependency(dataframe, var_v, var_h, is_plot=True):\n",
    "    df2 = dataframe.groupby([var_v, var_h]).size().reset_index(name='Count')\n",
    "    df_count = pd.pivot_table(df2, values='Count', columns=[var_v], index=[var_h], aggfunc=np.sum)\n",
    "    # df_ratio_val_1 = df_count.div(df_count.sum(axis=0), axis=1)\n",
    "    df_ratio_val_2 = df_count.div(df_count.sum(axis=1), axis=0)\n",
    "    if is_plot:\n",
    "        ax = df_ratio_val_2.plot(kind='bar')\n",
    "        ax.set_xlabel('Categories of %s parameter' %var_h)\n",
    "        ax.set_ylabel('Proportions of %s for each %s' %(var_v,var_h))\n",
    "        ax.grid(1, which='major', axis='y', color='gray', ls=':')\n",
    "        plt.show()\n",
    "\n",
    "    chi, pval, dof, exp = chi2_contingency(df_count)\n",
    "    significance = 0.05\n",
    "    print('p-value=%.6f, significance=%.2f\\n' % (pval, significance))\n",
    "    if pval < significance:\n",
    "        print(\"\"\"At %.2f level of significance, we reject the null hypotheses and accept H1.\n",
    "    They are not independent.\"\"\" % significance)\n",
    "    else:\n",
    "        print(\"\"\"At %.2f level of significance, we accept the null hypotheses.\n",
    "    They are independent.\"\"\" % significance)\n",
    "    return df_count, exp\n",
    "\n",
    "a = analysis_cat_dependency(df_train, 'survived', 'sex')"
   ],
   "metadata": {
    "collapsed": false,
    "pycharm": {
     "name": "#%%\n"
    }
   }
  },
  {
   "cell_type": "code",
   "execution_count": 6,
   "outputs": [
    {
     "data": {
      "text/plain": "<Figure size 432x288 with 1 Axes>",
      "image/png": "[encoded data removed]"
     },
     "metadata": {},
     "output_type": "display_data"
    },
    {
     "name": "stdout",
     "output_type": "stream",
     "text": [
      "p-value=0.000000, significance=0.05\n",
      "\n",
      "At 0.05 level of significance, we reject the null hypotheses and accept H1.\n",
      "    They are not independent.\n"
     ]
    }
   ],
   "source": [
    "a = analysis_cat_dependency(df_train, 'survived', 'pclass')"
   ],
   "metadata": {
    "collapsed": false,
    "pycharm": {
     "name": "#%%\n"
    }
   }
  },
  {
   "cell_type": "code",
   "execution_count": 7,
   "outputs": [
    {
     "data": {
      "text/plain": "<Figure size 432x288 with 1 Axes>",
      "image/png": "[encoded data removed]"
     },
     "metadata": {},
     "output_type": "display_data"
    },
    {
     "name": "stdout",
     "output_type": "stream",
     "text": [
      "p-value=0.000002, significance=0.05\n",
      "\n",
      "At 0.05 level of significance, we reject the null hypotheses and accept H1.\n",
      "    They are not independent.\n"
     ]
    }
   ],
   "source": [
    "a = analysis_cat_dependency(df_train, 'survived', 'embarked')"
   ],
   "metadata": {
    "collapsed": false,
    "pycharm": {
     "name": "#%%\n"
    }
   }
  },
  {
   "cell_type": "markdown",
   "source": [
    "The correlations for numeric variables \"fare\" and \"age\" with survival rate\n",
    "are analysed via box plots and correlation matrix.\n",
    "Variable \"fare\" is highly correlated with survival rate as passengers who paid higher ticket prices\n",
    "survived at a higher rate. \"age\" is also correlated but not as much as other variables."
   ],
   "metadata": {
    "collapsed": false
   }
  },
  {
   "cell_type": "code",
   "execution_count": 8,
   "outputs": [
    {
     "data": {
      "text/plain": "<AxesSubplot:>"
     },
     "execution_count": 8,
     "metadata": {},
     "output_type": "execute_result"
    },
    {
     "data": {
      "text/plain": "<Figure size 432x108 with 1 Axes>",
      "image/png": "[encoded data removed]"
     },
     "metadata": {},
     "output_type": "display_data"
    },
    {
     "data": {
      "text/plain": "<Figure size 432x108 with 1 Axes>",
      "image/png": "[encoded data removed]"
     },
     "metadata": {},
     "output_type": "display_data"
    },
    {
     "data": {
      "text/plain": "<Figure size 432x216 with 2 Axes>",
      "image/png": "[encoded data removed]"
     },
     "metadata": {},
     "output_type": "display_data"
    }
   ],
   "source": [
    "fare_box = sns.catplot(x=\"fare\", y=\"survived\", kind=\"box\", orient=\"h\", height=1.5, aspect=4,\n",
    "                data=df_train.query(\"fare > 0\"))\n",
    "fare_box.set(xscale=\"log\")\n",
    "\n",
    "age_box = sns.catplot(x=\"age\", y=\"survived\", kind=\"box\", orient=\"h\", height=1.5, aspect=4,\n",
    "                data=df_train)\n",
    "num_corrmat = df_train[['survived','age','fare']].corr()\n",
    "d, ax = plt.subplots(figsize=(6,3))\n",
    "sns.heatmap(num_corrmat,vmax=0.8,square=True)"
   ],
   "metadata": {
    "collapsed": false,
    "pycharm": {
     "name": "#%%\n"
    }
   }
  },
  {
   "cell_type": "markdown",
   "source": [
    "### Addressing Missing Values\n",
    "\n",
    "The preprocessing steps are discussed and put into a pipeline to make the process more reproducible.\n",
    "* Numeric features\n",
    "    * Missing valuers of numeric features \"age\" is replaced by median of the column\n",
    "    * The values are standardized\n",
    "* Categorical features\n",
    "    * Missing values already addressed\n",
    "    * Columns converted into one-hot\n",
    "* Both pipelines put together as pre-process pipeline"
   ],
   "metadata": {
    "collapsed": false
   }
  },
  {
   "cell_type": "code",
   "execution_count": 10,
   "outputs": [],
   "source": [
    "numeric_features = ['age', 'fare']\n",
    "numeric_transformer = Pipeline(steps=[\n",
    "    ('imputer', SimpleImputer(strategy='median')),\n",
    "    ('scaler', StandardScaler())])\n",
    "\n",
    "categorical_features = ['embarked', 'sex', 'pclass']\n",
    "categorical_transformer = Pipeline(steps=[\n",
    "    ('onehot', OneHotEncoder(handle_unknown='ignore'))])\n",
    "\n",
    "preprocessor = ColumnTransformer(\n",
    "    transformers=[\n",
    "        ('num', numeric_transformer, numeric_features),\n",
    "        ('cat', categorical_transformer, categorical_features)])\n",
    "\n",
    "y_tr = df_train['survived']\n",
    "x_tr = df_train.drop('survived',axis=1)"
   ],
   "metadata": {
    "collapsed": false,
    "pycharm": {
     "name": "#%%\n"
    }
   }
  },
  {
   "cell_type": "code",
   "execution_count": 11,
   "outputs": [
    {
     "name": "stdout",
     "output_type": "stream",
     "text": [
      "XGBoost model score 0.96\n"
     ]
    }
   ],
   "source": [
    "from xgboost import XGBClassifier\n",
    "xgboost_clf = Pipeline(steps=[('preprocessor', preprocessor),\n",
    "                              ('xgb_clf', XGBClassifier())])\n",
    "xgboost_clf.fit(x_tr,y_tr)\n",
    "print('XGBoost model score %.2f' % xgboost_clf.score(x_tr,y_tr))"
   ],
   "metadata": {
    "collapsed": false,
    "pycharm": {
     "name": "#%%\n"
    }
   }
  }
 ],
 "metadata": {
  "kernelspec": {
   "name": "pycharm-930c98e1",
   "language": "python",
   "display_name": "PyCharm (Black_Friday_ML_Analysis)"
  },
  "language_info": {
   "codemirror_mode": {
    "name": "ipython",
    "version": 2
   },
   "file_extension": ".py",
   "mimetype": "text/x-python",
   "name": "python",
   "nbconvert_exporter": "python",
   "pygments_lexer": "ipython2",
   "version": "2.7.6"
  }
 },
 "nbformat": 4,
 "nbformat_minor": 0
}